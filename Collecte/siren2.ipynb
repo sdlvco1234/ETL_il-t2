{
 "cells": [
  {
   "cell_type": "code",
   "execution_count": 2,
   "id": "29b08494",
   "metadata": {},
   "outputs": [],
   "source": [
    "import requests\n",
    "import csv\n",
    "import time\n",
    "import pandas as pd"
   ]
  },
  {
   "cell_type": "code",
   "execution_count": 3,
   "id": "809ec6c1",
   "metadata": {},
   "outputs": [],
   "source": [
    "headers = {\n",
    "    'accept': 'application/json',\n",
    "    'X-INSEE-Api-Key-Integration': '29f35d23-2973-4bc3-b35d-232973dbc3f2'\n",
    "\n",
    "\n",
    "}\n",
    "url = \"https://api.insee.fr/api-sirene/3.11/siren?q=periode(denominationUniteLegale:OGF)\"\n",
    "\n",
    "response = requests.get(url=url, headers=headers)\n",
    "\n",
    "datas = response.json()"
   ]
  },
  {
   "cell_type": "code",
   "execution_count": null,
   "id": "39ab9524",
   "metadata": {},
   "outputs": [],
   "source": []
  }
 ],
 "metadata": {
  "kernelspec": {
   "display_name": "base",
   "language": "python",
   "name": "python3"
  },
  "language_info": {
   "codemirror_mode": {
    "name": "ipython",
    "version": 3
   },
   "file_extension": ".py",
   "mimetype": "text/x-python",
   "name": "python",
   "nbconvert_exporter": "python",
   "pygments_lexer": "ipython3",
   "version": "3.12.2"
  }
 },
 "nbformat": 4,
 "nbformat_minor": 5
}
