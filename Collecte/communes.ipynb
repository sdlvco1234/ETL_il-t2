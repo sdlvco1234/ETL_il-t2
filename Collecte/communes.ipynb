{
 "cells": [
  {
   "cell_type": "code",
   "execution_count": 10,
   "id": "edab3251",
   "metadata": {},
   "outputs": [],
   "source": [
    "import requests\n",
    "import pandas as pd\n",
    "import time\n",
    "import json\n"
   ]
  },
  {
   "cell_type": "code",
   "execution_count": 11,
   "id": "33aba30c",
   "metadata": {},
   "outputs": [],
   "source": [
    "url = f'https://geo.api.gouv.fr/departements/07/communes'\n",
    "\n",
    "response = requests.get(url=url)\n",
    "datas = response.json()\n",
    "codecommune = datas[1][\"code\"]\n",
    "\n"
   ]
  },
  {
   "cell_type": "code",
   "execution_count": 20,
   "id": "aeff5fdc",
   "metadata": {},
   "outputs": [
    {
     "name": "stdout",
     "output_type": "stream",
     "text": [
      "departement 1 fait\n",
      "departement 2 fait\n",
      "departement 3 fait\n",
      "departement 4 fait\n",
      "departement 5 fait\n",
      "departement 6 fait\n",
      "departement 7 fait\n",
      "departement 8 fait\n",
      "departement 9 fait\n",
      "departement 10 fait\n",
      "departement 11 fait\n",
      "departement 12 fait\n",
      "departement 13 fait\n",
      "departement 14 fait\n",
      "departement 15 fait\n",
      "departement 16 fait\n",
      "departement 17 fait\n",
      "departement 18 fait\n",
      "departement 19 fait\n",
      "Département 20 non trouvé (404)\n",
      "departement 21 fait\n",
      "departement 22 fait\n",
      "departement 23 fait\n",
      "departement 24 fait\n",
      "departement 25 fait\n",
      "departement 26 fait\n",
      "departement 27 fait\n",
      "departement 28 fait\n",
      "departement 29 fait\n",
      "departement 30 fait\n",
      "departement 31 fait\n",
      "departement 32 fait\n",
      "departement 33 fait\n",
      "departement 34 fait\n",
      "departement 35 fait\n",
      "departement 36 fait\n",
      "departement 37 fait\n",
      "departement 38 fait\n",
      "departement 39 fait\n",
      "departement 40 fait\n",
      "departement 41 fait\n",
      "departement 42 fait\n",
      "departement 43 fait\n",
      "departement 44 fait\n",
      "departement 45 fait\n",
      "departement 46 fait\n",
      "departement 47 fait\n",
      "departement 48 fait\n",
      "departement 49 fait\n",
      "departement 50 fait\n",
      "departement 51 fait\n",
      "departement 52 fait\n",
      "departement 53 fait\n",
      "departement 54 fait\n",
      "departement 55 fait\n",
      "departement 56 fait\n",
      "departement 57 fait\n",
      "departement 58 fait\n",
      "departement 59 fait\n",
      "departement 60 fait\n",
      "departement 61 fait\n",
      "departement 62 fait\n",
      "departement 63 fait\n",
      "departement 64 fait\n",
      "departement 65 fait\n",
      "departement 66 fait\n",
      "departement 67 fait\n",
      "departement 68 fait\n",
      "departement 69 fait\n",
      "departement 70 fait\n",
      "departement 71 fait\n",
      "departement 72 fait\n",
      "departement 73 fait\n",
      "departement 74 fait\n",
      "departement 75 fait\n",
      "departement 76 fait\n",
      "departement 77 fait\n",
      "departement 78 fait\n",
      "departement 79 fait\n",
      "departement 80 fait\n",
      "departement 81 fait\n",
      "departement 82 fait\n",
      "departement 83 fait\n",
      "departement 84 fait\n",
      "departement 85 fait\n",
      "departement 86 fait\n",
      "departement 87 fait\n",
      "departement 88 fait\n",
      "departement 89 fait\n",
      "departement 90 fait\n",
      "departement 91 fait\n",
      "departement 92 fait\n",
      "departement 93 fait\n",
      "departement 94 fait\n"
     ]
    }
   ],
   "source": [
    "listnom = []\n",
    "listcode = []\n",
    "listcodeposte = []\n",
    "listdepartement = []\n",
    "\n",
    "for dep in range(1,10):\n",
    "\n",
    "    url = f'https://geo.api.gouv.fr/departements/0{dep}/communes'\n",
    "\n",
    "    response = requests.get(url=url)\n",
    "\n",
    "    datas = response.json()\n",
    "\n",
    "    for n in range(len(datas)):\n",
    "        nom = datas[n][\"nom\"]\n",
    "        code = datas[n][\"code\"]\n",
    "        codeposte = datas[n][\"codesPostaux\"][0]\n",
    "        depart = datas[n][\"codeDepartement\"]\n",
    "        \n",
    "        listnom.append(nom)\n",
    "        listcode.append(code)\n",
    "        listcodeposte.append(codeposte)\n",
    "        listdepartement.append(depart)\n",
    "    print(f'departement {dep} fait')\n",
    "\n",
    "\n",
    "for dep in range(10,95):\n",
    "    url = f'https://geo.api.gouv.fr/departements/{dep}/communes'\n",
    "    \n",
    "    response = requests.get(url=url)\n",
    "    \n",
    "    if response.status_code == 404:\n",
    "        print(f\"Département {dep} non trouvé (404)\")\n",
    "        continue\n",
    "\n",
    "    datas = response.json()\n",
    "\n",
    "    for n in range(len(datas)):\n",
    "        nom = datas[n][\"nom\"]\n",
    "        code = datas[n][\"code\"]\n",
    "        codeposte = datas[n][\"codesPostaux\"][0]\n",
    "        depart = datas[n][\"codeDepartement\"]\n",
    "        \n",
    "        listnom.append(nom)\n",
    "        listcode.append(code)\n",
    "        listcodeposte.append(codeposte)\n",
    "        listdepartement.append(depart)\n",
    "    print(f'departement {dep} fait')\n",
    "\n"
   ]
  },
  {
   "cell_type": "code",
   "execution_count": 21,
   "id": "35cd302b",
   "metadata": {},
   "outputs": [
    {
     "name": "stdout",
     "output_type": "stream",
     "text": [
      "34203\n",
      "34203\n",
      "34203\n",
      "34203\n"
     ]
    }
   ],
   "source": [
    "print(len(listnom))\n",
    "print(len(listcode))\n",
    "print(len(listcodeposte))\n",
    "print(len(listdepartement))"
   ]
  },
  {
   "cell_type": "code",
   "execution_count": 22,
   "id": "19b00f58",
   "metadata": {},
   "outputs": [],
   "source": [
    "sernom = pd.Series(listnom)\n",
    "sercode = pd.Series(listcode)\n",
    "sercodpostaux = pd.Series(listcodeposte)\n",
    "serdep = pd.Series(listdepartement)\n"
   ]
  },
  {
   "cell_type": "code",
   "execution_count": 23,
   "id": "f79b89bc",
   "metadata": {},
   "outputs": [
    {
     "data": {
      "application/vnd.microsoft.datawrangler.viewer.v0+json": {
       "columns": [
        {
         "name": "index",
         "rawType": "int64",
         "type": "integer"
        },
        {
         "name": "0",
         "rawType": "object",
         "type": "string"
        },
        {
         "name": "1",
         "rawType": "object",
         "type": "string"
        },
        {
         "name": "2",
         "rawType": "object",
         "type": "string"
        },
        {
         "name": "3",
         "rawType": "object",
         "type": "string"
        }
       ],
       "ref": "a1ba8fe6-4ae9-4188-bf98-22fd5c837895",
       "rows": [
        [
         "0",
         "L'Abergement-Clémenciat",
         "01001",
         "01400",
         "01"
        ],
        [
         "1",
         "L'Abergement-de-Varey",
         "01002",
         "01640",
         "01"
        ],
        [
         "2",
         "Ambérieu-en-Bugey",
         "01004",
         "01500",
         "01"
        ],
        [
         "3",
         "Ambérieux-en-Dombes",
         "01005",
         "01330",
         "01"
        ],
        [
         "4",
         "Ambléon",
         "01006",
         "01300",
         "01"
        ],
        [
         "5",
         "Ambronay",
         "01007",
         "01500",
         "01"
        ],
        [
         "6",
         "Ambutrix",
         "01008",
         "01500",
         "01"
        ],
        [
         "7",
         "Andert-et-Condon",
         "01009",
         "01300",
         "01"
        ],
        [
         "8",
         "Anglefort",
         "01010",
         "01350",
         "01"
        ],
        [
         "9",
         "Apremont",
         "01011",
         "01100",
         "01"
        ],
        [
         "10",
         "Aranc",
         "01012",
         "01110",
         "01"
        ],
        [
         "11",
         "Arandas",
         "01013",
         "01230",
         "01"
        ],
        [
         "12",
         "Arbent",
         "01014",
         "01100",
         "01"
        ],
        [
         "13",
         "Arboys en Bugey",
         "01015",
         "01300",
         "01"
        ],
        [
         "14",
         "Arbigny",
         "01016",
         "01190",
         "01"
        ],
        [
         "15",
         "Argis",
         "01017",
         "01230",
         "01"
        ],
        [
         "16",
         "Armix",
         "01019",
         "01510",
         "01"
        ],
        [
         "17",
         "Ars-sur-Formans",
         "01021",
         "01480",
         "01"
        ],
        [
         "18",
         "Artemare",
         "01022",
         "01510",
         "01"
        ],
        [
         "19",
         "Asnières-sur-Saône",
         "01023",
         "01570",
         "01"
        ],
        [
         "20",
         "Attignat",
         "01024",
         "01340",
         "01"
        ],
        [
         "21",
         "Bâgé-Dommartin",
         "01025",
         "01380",
         "01"
        ],
        [
         "22",
         "Bâgé-le-Châtel",
         "01026",
         "01380",
         "01"
        ],
        [
         "23",
         "Balan",
         "01027",
         "01360",
         "01"
        ],
        [
         "24",
         "Baneins",
         "01028",
         "01990",
         "01"
        ],
        [
         "25",
         "Beaupont",
         "01029",
         "01270",
         "01"
        ],
        [
         "26",
         "Beauregard",
         "01030",
         "01480",
         "01"
        ],
        [
         "27",
         "Bellignat",
         "01031",
         "01100",
         "01"
        ],
        [
         "28",
         "Béligneux",
         "01032",
         "01360",
         "01"
        ],
        [
         "29",
         "Valserhône",
         "01033",
         "01200",
         "01"
        ],
        [
         "30",
         "Belley",
         "01034",
         "01300",
         "01"
        ],
        [
         "31",
         "Belleydoux",
         "01035",
         "01130",
         "01"
        ],
        [
         "32",
         "Valromey-sur-Séran",
         "01036",
         "01260",
         "01"
        ],
        [
         "33",
         "Bénonces",
         "01037",
         "01470",
         "01"
        ],
        [
         "34",
         "Bény",
         "01038",
         "01370",
         "01"
        ],
        [
         "35",
         "Béréziat",
         "01040",
         "01340",
         "01"
        ],
        [
         "36",
         "Bettant",
         "01041",
         "01500",
         "01"
        ],
        [
         "37",
         "Bey",
         "01042",
         "01290",
         "01"
        ],
        [
         "38",
         "Beynost",
         "01043",
         "01700",
         "01"
        ],
        [
         "39",
         "Billiat",
         "01044",
         "01200",
         "01"
        ],
        [
         "40",
         "Birieux",
         "01045",
         "01330",
         "01"
        ],
        [
         "41",
         "Biziat",
         "01046",
         "01290",
         "01"
        ],
        [
         "42",
         "Blyes",
         "01047",
         "01150",
         "01"
        ],
        [
         "43",
         "La Boisse",
         "01049",
         "01120",
         "01"
        ],
        [
         "44",
         "Boissey",
         "01050",
         "01190",
         "01"
        ],
        [
         "45",
         "Bolozon",
         "01051",
         "01450",
         "01"
        ],
        [
         "46",
         "Bouligneux",
         "01052",
         "01330",
         "01"
        ],
        [
         "47",
         "Bourg-en-Bresse",
         "01053",
         "01000",
         "01"
        ],
        [
         "48",
         "Bourg-Saint-Christophe",
         "01054",
         "01800",
         "01"
        ],
        [
         "49",
         "Boyeux-Saint-Jérôme",
         "01056",
         "01640",
         "01"
        ]
       ],
       "shape": {
        "columns": 4,
        "rows": 34203
       }
      },
      "text/html": [
       "<div>\n",
       "<style scoped>\n",
       "    .dataframe tbody tr th:only-of-type {\n",
       "        vertical-align: middle;\n",
       "    }\n",
       "\n",
       "    .dataframe tbody tr th {\n",
       "        vertical-align: top;\n",
       "    }\n",
       "\n",
       "    .dataframe thead th {\n",
       "        text-align: right;\n",
       "    }\n",
       "</style>\n",
       "<table border=\"1\" class=\"dataframe\">\n",
       "  <thead>\n",
       "    <tr style=\"text-align: right;\">\n",
       "      <th></th>\n",
       "      <th>0</th>\n",
       "      <th>1</th>\n",
       "      <th>2</th>\n",
       "      <th>3</th>\n",
       "    </tr>\n",
       "  </thead>\n",
       "  <tbody>\n",
       "    <tr>\n",
       "      <th>0</th>\n",
       "      <td>L'Abergement-Clémenciat</td>\n",
       "      <td>01001</td>\n",
       "      <td>01400</td>\n",
       "      <td>01</td>\n",
       "    </tr>\n",
       "    <tr>\n",
       "      <th>1</th>\n",
       "      <td>L'Abergement-de-Varey</td>\n",
       "      <td>01002</td>\n",
       "      <td>01640</td>\n",
       "      <td>01</td>\n",
       "    </tr>\n",
       "    <tr>\n",
       "      <th>2</th>\n",
       "      <td>Ambérieu-en-Bugey</td>\n",
       "      <td>01004</td>\n",
       "      <td>01500</td>\n",
       "      <td>01</td>\n",
       "    </tr>\n",
       "    <tr>\n",
       "      <th>3</th>\n",
       "      <td>Ambérieux-en-Dombes</td>\n",
       "      <td>01005</td>\n",
       "      <td>01330</td>\n",
       "      <td>01</td>\n",
       "    </tr>\n",
       "    <tr>\n",
       "      <th>4</th>\n",
       "      <td>Ambléon</td>\n",
       "      <td>01006</td>\n",
       "      <td>01300</td>\n",
       "      <td>01</td>\n",
       "    </tr>\n",
       "    <tr>\n",
       "      <th>...</th>\n",
       "      <td>...</td>\n",
       "      <td>...</td>\n",
       "      <td>...</td>\n",
       "      <td>...</td>\n",
       "    </tr>\n",
       "    <tr>\n",
       "      <th>34198</th>\n",
       "      <td>Villeneuve-le-Roi</td>\n",
       "      <td>94077</td>\n",
       "      <td>94290</td>\n",
       "      <td>94</td>\n",
       "    </tr>\n",
       "    <tr>\n",
       "      <th>34199</th>\n",
       "      <td>Villeneuve-Saint-Georges</td>\n",
       "      <td>94078</td>\n",
       "      <td>94190</td>\n",
       "      <td>94</td>\n",
       "    </tr>\n",
       "    <tr>\n",
       "      <th>34200</th>\n",
       "      <td>Villiers-sur-Marne</td>\n",
       "      <td>94079</td>\n",
       "      <td>94350</td>\n",
       "      <td>94</td>\n",
       "    </tr>\n",
       "    <tr>\n",
       "      <th>34201</th>\n",
       "      <td>Vincennes</td>\n",
       "      <td>94080</td>\n",
       "      <td>94300</td>\n",
       "      <td>94</td>\n",
       "    </tr>\n",
       "    <tr>\n",
       "      <th>34202</th>\n",
       "      <td>Vitry-sur-Seine</td>\n",
       "      <td>94081</td>\n",
       "      <td>94400</td>\n",
       "      <td>94</td>\n",
       "    </tr>\n",
       "  </tbody>\n",
       "</table>\n",
       "<p>34203 rows × 4 columns</p>\n",
       "</div>"
      ],
      "text/plain": [
       "                              0      1      2   3\n",
       "0       L'Abergement-Clémenciat  01001  01400  01\n",
       "1         L'Abergement-de-Varey  01002  01640  01\n",
       "2             Ambérieu-en-Bugey  01004  01500  01\n",
       "3           Ambérieux-en-Dombes  01005  01330  01\n",
       "4                       Ambléon  01006  01300  01\n",
       "...                         ...    ...    ...  ..\n",
       "34198         Villeneuve-le-Roi  94077  94290  94\n",
       "34199  Villeneuve-Saint-Georges  94078  94190  94\n",
       "34200        Villiers-sur-Marne  94079  94350  94\n",
       "34201                 Vincennes  94080  94300  94\n",
       "34202           Vitry-sur-Seine  94081  94400  94\n",
       "\n",
       "[34203 rows x 4 columns]"
      ]
     },
     "execution_count": 23,
     "metadata": {},
     "output_type": "execute_result"
    }
   ],
   "source": [
    "df = pd.concat([sernom, sercode, sercodpostaux, serdep], axis = 1)\n",
    "df"
   ]
  },
  {
   "cell_type": "code",
   "execution_count": 25,
   "id": "d0947111",
   "metadata": {},
   "outputs": [],
   "source": [
    "df.to_csv(\"communesextract.csv\")"
   ]
  },
  {
   "cell_type": "code",
   "execution_count": null,
   "id": "0018c247",
   "metadata": {},
   "outputs": [],
   "source": []
  }
 ],
 "metadata": {
  "kernelspec": {
   "display_name": "base",
   "language": "python",
   "name": "python3"
  },
  "language_info": {
   "codemirror_mode": {
    "name": "ipython",
    "version": 3
   },
   "file_extension": ".py",
   "mimetype": "text/x-python",
   "name": "python",
   "nbconvert_exporter": "python",
   "pygments_lexer": "ipython3",
   "version": "3.12.2"
  }
 },
 "nbformat": 4,
 "nbformat_minor": 5
}
