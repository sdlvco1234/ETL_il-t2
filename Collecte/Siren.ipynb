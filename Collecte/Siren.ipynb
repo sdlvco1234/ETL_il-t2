{
 "cells": [
  {
   "cell_type": "code",
   "execution_count": 16,
   "id": "52009835",
   "metadata": {},
   "outputs": [],
   "source": [
    "import requests\n",
    "import csv\n",
    "import time\n",
    "import pandas as pd"
   ]
  },
  {
   "cell_type": "code",
   "execution_count": 26,
   "id": "4aaae217",
   "metadata": {},
   "outputs": [],
   "source": [
    "headers = {\n",
    "    'accept': 'application/json',\n",
    "    'X-INSEE-Api-Key-Integration': '29f35d23-2973-4bc3-b35d-232973dbc3f2'\n",
    "\n",
    "\n",
    "}\n",
    "url = \"https://api.insee.fr/api-sirene/3.11/siren?q=periode(denominationUniteLegale:OGF)\"\n",
    "\n",
    "response = requests.get(url=url, headers=headers)\n",
    "\n",
    "datas = response.json()"
   ]
  },
  {
   "cell_type": "code",
   "execution_count": null,
   "id": "6953b4a0",
   "metadata": {},
   "outputs": [
    {
     "data": {
      "text/plain": [
       "{'siren': '944474287',\n",
       " 'statutDiffusionUniteLegale': 'O',\n",
       " 'dateCreationUniteLegale': '2025-05-13',\n",
       " 'sigleUniteLegale': None,\n",
       " 'sexeUniteLegale': None,\n",
       " 'prenom1UniteLegale': None,\n",
       " 'prenom2UniteLegale': None,\n",
       " 'prenom3UniteLegale': None,\n",
       " 'prenom4UniteLegale': None,\n",
       " 'prenomUsuelUniteLegale': None,\n",
       " 'pseudonymeUniteLegale': None,\n",
       " 'identifiantAssociationUniteLegale': None,\n",
       " 'trancheEffectifsUniteLegale': None,\n",
       " 'anneeEffectifsUniteLegale': None,\n",
       " 'dateDernierTraitementUniteLegale': '2025-05-16T12:00:47.628',\n",
       " 'nombrePeriodesUniteLegale': 1,\n",
       " 'categorieEntreprise': None,\n",
       " 'anneeCategorieEntreprise': None,\n",
       " 'periodesUniteLegale': [{'dateFin': None,\n",
       "   'dateDebut': '2025-05-13',\n",
       "   'etatAdministratifUniteLegale': 'A',\n",
       "   'changementEtatAdministratifUniteLegale': False,\n",
       "   'nomUniteLegale': None,\n",
       "   'changementNomUniteLegale': False,\n",
       "   'nomUsageUniteLegale': None,\n",
       "   'changementNomUsageUniteLegale': False,\n",
       "   'denominationUniteLegale': 'OGF',\n",
       "   'changementDenominationUniteLegale': False,\n",
       "   'denominationUsuelle1UniteLegale': None,\n",
       "   'denominationUsuelle2UniteLegale': None,\n",
       "   'denominationUsuelle3UniteLegale': None,\n",
       "   'changementDenominationUsuelleUniteLegale': False,\n",
       "   'categorieJuridiqueUniteLegale': '5710',\n",
       "   'changementCategorieJuridiqueUniteLegale': False,\n",
       "   'activitePrincipaleUniteLegale': '66.30Z',\n",
       "   'nomenclatureActivitePrincipaleUniteLegale': 'NAFRev2',\n",
       "   'changementActivitePrincipaleUniteLegale': False,\n",
       "   'nicSiegeUniteLegale': '00017',\n",
       "   'changementNicSiegeUniteLegale': False,\n",
       "   'economieSocialeSolidaireUniteLegale': 'N',\n",
       "   'changementEconomieSocialeSolidaireUniteLegale': False,\n",
       "   'societeMissionUniteLegale': None,\n",
       "   'changementSocieteMissionUniteLegale': False,\n",
       "   'caractereEmployeurUniteLegale': None,\n",
       "   'changementCaractereEmployeurUniteLegale': False}]}"
      ]
     },
     "execution_count": 35,
     "metadata": {},
     "output_type": "execute_result"
    }
   ],
   "source": [
    "datas[\"unitesLegales\"][0][\"siren\"]"
   ]
  },
  {
   "cell_type": "code",
   "execution_count": 36,
   "id": "50d3a583",
   "metadata": {},
   "outputs": [
    {
     "name": "stdout",
     "output_type": "stream",
     "text": [
      "542076799\n"
     ]
    }
   ],
   "source": [
    "\n",
    "for i in range(len(datas[\"unitesLegales\"])):\n",
    "    if datas[\"unitesLegales\"][i][\"periodesUniteLegale\"][0][\"denominationUniteLegale\"] == \"OGF\":\n",
    "        if datas[\"unitesLegales\"][i][\"periodesUniteLegale\"][0][\"activitePrincipaleUniteLegale\"] == \"96.03Z\":\n",
    "            print(datas[\"unitesLegales\"][i][\"siren\"])"
   ]
  },
  {
   "cell_type": "code",
   "execution_count": null,
   "id": "1c94491c",
   "metadata": {},
   "outputs": [
    {
     "data": {
      "text/plain": [
       "'OGF'"
      ]
     },
     "execution_count": 28,
     "metadata": {},
     "output_type": "execute_result"
    }
   ],
   "source": [
    "for \n",
    "datas[\"unitesLegales\"][0][\"periodesUniteLegale\"][0][\"denominationUniteLegale\"]"
   ]
  },
  {
   "cell_type": "code",
   "execution_count": null,
   "id": "c5a9c8e0",
   "metadata": {},
   "outputs": [
    {
     "name": "stdout",
     "output_type": "stream",
     "text": [
      "début de du siren 412280737\n",
      "début de du siren 662042449\n",
      "début de du siren 632041042\n",
      "début de du siren 477181010\n",
      "début de du siren 334159472\n",
      "début de du siren 338253131\n",
      "début de du siren 552049447\n",
      "début de du siren 353821028\n",
      "début de du siren 400151577\n",
      "début de du siren 896850286\n",
      "début de du siren 402559595\n",
      "début de du siren 552005969\n",
      "début de du siren 538572215\n",
      "début de du siren 393932306\n",
      "début de du siren 911435212\n",
      "début de du siren 896950292\n",
      "début de du siren 335273777\n",
      "début de du siren 243301447\n",
      "début de du siren 485001754\n",
      "début de du siren 334413044\n",
      "début de du siren 883972762\n",
      "début de du siren 407280445\n",
      "début de du siren 313308199\n",
      "début de du siren 477992465\n",
      "début de du siren 213300122\n",
      "début de du siren 837776400\n",
      "début de du siren 904790888\n",
      "début de du siren 491685061\n",
      "début de du siren 513407635\n",
      "début de du siren 833074206\n",
      "début de du siren 781837398\n",
      "Trop de requêtes, pause de 60 secondes...\n",
      "début de du siren 949195788\n",
      "début de du siren 319842563\n",
      "début de du siren 200068013\n",
      "début de du siren 213305170\n",
      "début de du siren 306138553\n",
      "début de du siren 781937347\n",
      "début de du siren 391822301\n",
      "début de du siren 383654753\n",
      "début de du siren 455206540\n",
      "début de du siren 428807200\n",
      "début de du siren 810004481\n",
      "début de du siren 793553694\n",
      "début de du siren 310776125\n",
      "début de du siren 263300121\n",
      "début de du siren 439183252\n",
      "début de du siren 442529327\n",
      "début de du siren 792947061\n",
      "début de du siren 419051743\n",
      "début de du siren 339705360\n",
      "début de du siren 838647600\n",
      "début de du siren 849871108\n",
      "début de du siren 843368168\n",
      "début de du siren 851400994\n",
      "début de du siren 909519043\n",
      "début de du siren 893356642\n",
      "début de du siren 524522265\n",
      "début de du siren 538646381\n",
      "début de du siren 537431652\n",
      "début de du siren 538017237\n",
      "début de du siren 753119775\n",
      "début de du siren 753963693\n",
      "Trop de requêtes, pause de 60 secondes...\n",
      "début de du siren 819923616\n",
      "début de du siren 422667477\n",
      "début de du siren 484020987\n",
      "début de du siren 491112777\n",
      "début de du siren 491643920\n",
      "début de du siren 901752535\n",
      "début de du siren 952467538\n",
      "début de du siren 929321172\n",
      "début de du siren 508103579\n",
      "début de du siren 521364273\n",
      "début de du siren 817494180\n",
      "début de du siren 812023182\n",
      "début de du siren 812285351\n",
      "début de du siren 801143348\n",
      "début de du siren 888653243\n",
      "début de du siren 514923762\n",
      "début de du siren 804738565\n",
      "début de du siren 835075284\n",
      "début de du siren 830286670\n",
      "début de du siren 889854220\n",
      "début de du siren 902733708\n",
      "début de du siren 900967878\n",
      "début de du siren 497696435\n",
      "début de du siren 483113361\n",
      "début de du siren 800165987\n",
      "début de du siren 792036717\n",
      "début de du siren 841119886\n",
      "début de du siren 328458278\n",
      "début de du siren 321152993\n",
      "début de du siren 439217100\n",
      "début de du siren 472200716\n",
      "Trop de requêtes, pause de 60 secondes...\n",
      "début de du siren 213302110\n",
      "début de du siren 334027083\n",
      "début de du siren 307300236\n",
      "début de du siren 504138603\n",
      "début de du siren 511831679\n",
      "début de du siren 797994381\n",
      "début de du siren 801353525\n",
      "début de du siren 342206356\n"
     ]
    }
   ],
   "source": [
    "df = pd.read_csv('traités2.csv')\n",
    "\n",
    "headers = {\n",
    "    'accept': 'application/json',\n",
    "    'X-INSEE-Api-Key-Integration': '29f35d23-2973-4bc3-b35d-232973dbc3f2'\n",
    "}\n",
    "listdates = []\n",
    "listcate = []\n",
    "listcode = []\n",
    "for row in df[\"SIREN\"].loc[0:100]:\n",
    "\n",
    "    url = f\"https://api.insee.fr/api-sirene/3.11/siren/{row}\"\n",
    "\n",
    "    print(f\"début de du siren {row}\")\n",
    "    response = requests.get(url=url, headers=headers)\n",
    "        \n",
    "    if response.status_code == 200:\n",
    "\n",
    "        datas = response.json()\n",
    "\n",
    "        date = datas[\"uniteLegale\"][\"categorieEntreprise\"]\n",
    "        cate = datas[\"uniteLegale\"][\"dateCreationUniteLegale\"]\n",
    "        code = datas[\"uniteLegale\"][\"periodesUniteLegale\"][0]['activitePrincipaleUniteLegale']\n",
    "\n",
    "        listdates.append(date)\n",
    "        listcate.append(cate)\n",
    "        listcode.append(code)\n",
    "        \n",
    "    elif response.status_code == 429:\n",
    "        print(\"Trop de requêtes, pause de 60 secondes...\")\n",
    "        time.sleep(60)\n",
    "        \n",
    "\n",
    "    else:\n",
    "            print(f\"Erreur {response.status_code} pour le SIREN {row}\")\n",
    "            listdates.append(None)\n",
    "            listcate.append(None)\n",
    "            listcode.append(None)\n",
    "\n",
    "time.sleep(2)\n",
    "\n",
    "    \n",
    "    "
   ]
  },
  {
   "cell_type": "code",
   "execution_count": 1,
   "id": "116457a0",
   "metadata": {},
   "outputs": [
    {
     "ename": "NameError",
     "evalue": "name 'pd' is not defined",
     "output_type": "error",
     "traceback": [
      "\u001b[0;31m---------------------------------------------------------------------------\u001b[0m",
      "\u001b[0;31mNameError\u001b[0m                                 Traceback (most recent call last)",
      "Cell \u001b[0;32mIn[1], line 1\u001b[0m\n\u001b[0;32m----> 1\u001b[0m serdates \u001b[38;5;241m=\u001b[39m pd\u001b[38;5;241m.\u001b[39mSeries(listcate)\n\u001b[1;32m      2\u001b[0m sercate \u001b[38;5;241m=\u001b[39m pd\u001b[38;5;241m.\u001b[39mSeries(listdates)\n\u001b[1;32m      3\u001b[0m sercode \u001b[38;5;241m=\u001b[39m pd\u001b[38;5;241m.\u001b[39mSeries(listcode)\n",
      "\u001b[0;31mNameError\u001b[0m: name 'pd' is not defined"
     ]
    }
   ],
   "source": [
    "serdates = pd.Series(listcate)\n",
    "sercate = pd.Series(listdates)\n",
    "sercode = pd.Series(listcode)"
   ]
  },
  {
   "cell_type": "code",
   "execution_count": 41,
   "id": "f08763e1",
   "metadata": {},
   "outputs": [],
   "source": [
    "df = df.head(98)\n",
    "\n",
    "df2 = pd.concat([df,sercate, sercode,serdates], axis=1)\n",
    "\n",
    "df2 = df2.rename(columns={0:\"taille\", 1:\"code\", 2:\"date\"})"
   ]
  },
  {
   "cell_type": "code",
   "execution_count": 43,
   "id": "f980636f",
   "metadata": {},
   "outputs": [],
   "source": [
    "df2.to_csv(\"traité3.csv\")"
   ]
  },
  {
   "cell_type": "code",
   "execution_count": null,
   "id": "9ba8926d",
   "metadata": {},
   "outputs": [],
   "source": [
    "# headers = {\n",
    "#     'accept': 'application/json',\n",
    "#     'X-INSEE-Api-Key-Integration': '29f35d23-2973-4bc3-b35d-232973dbc3f2'\n",
    "# }\n",
    "\n",
    "# url = \"https://api.insee.fr/api-sirene/3.11/siren/888653243\"\n",
    "\n",
    "# response = requests.get(url=url, headers=headers)\n",
    "# datas = response.json()\n"
   ]
  },
  {
   "cell_type": "code",
   "execution_count": null,
   "id": "d0c910da",
   "metadata": {},
   "outputs": [],
   "source": [
    "# date de création, code naf, catégorie d'entreprise"
   ]
  },
  {
   "cell_type": "code",
   "execution_count": null,
   "id": "7817787b",
   "metadata": {},
   "outputs": [],
   "source": []
  }
 ],
 "metadata": {
  "kernelspec": {
   "display_name": "base",
   "language": "python",
   "name": "python3"
  },
  "language_info": {
   "codemirror_mode": {
    "name": "ipython",
    "version": 3
   },
   "file_extension": ".py",
   "mimetype": "text/x-python",
   "name": "python",
   "nbconvert_exporter": "python",
   "pygments_lexer": "ipython3",
   "version": "3.12.2"
  }
 },
 "nbformat": 4,
 "nbformat_minor": 5
}
